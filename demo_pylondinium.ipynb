{
 "cells": [
  {
   "cell_type": "markdown",
   "metadata": {},
   "source": [
    "# Live demo at PyLondinium 2018\n",
    "\n",
    "Goals\n",
    "\n",
    "* Take live survey data from the audience about Ada's weight\n",
    "* Provide descriptive statistics\n",
    "* Graph the two surveys\n",
    "* See if the sample variance changes when more information is provided"
   ]
  },
  {
   "cell_type": "code",
   "execution_count": 5,
   "metadata": {},
   "outputs": [],
   "source": [
    "import os\n",
    "import pandas as pd\n",
    "import matplotlib.pyplot as plt\n",
    "%matplotlib inline\n",
    "import numpy as np\n",
    "\n",
    "from utility import fetch"
   ]
  },
  {
   "cell_type": "code",
   "execution_count": 6,
   "metadata": {},
   "outputs": [],
   "source": [
    "#CSV_FILENAME_1 = \"survey1_europython.csv\"\n",
    "#CSV_FILENAME_2 = \"survey2_europython.csv\" \n",
    "#OFFSET = 85 # to jump past the previous iteration's answers\n",
    "\n",
    "CSV_FILENAME_1 = \"survey1_pylondinium.csv\"\n",
    "CSV_FILENAME_2 = \"survey2_pylondinium.csv\"\n",
    "OFFSET = 0"
   ]
  },
  {
   "cell_type": "code",
   "execution_count": 7,
   "metadata": {},
   "outputs": [],
   "source": [
    "if False:\n",
    "    EXPERIMENT_1 = \"Ian's Keynote Experiment (part 1) (Responses)\"\n",
    "    EXPERIMENT_2 = \"Ian's Keynote Experiment (part 2) (Responses)\" \n",
    "\n",
    "    # only fetch during the live demo\n",
    "    fetch(EXPERIMENT_1, CSV_FILENAME_1)\n",
    "    fetch(EXPERIMENT_2, CSV_FILENAME_2)"
   ]
  },
  {
   "cell_type": "code",
   "execution_count": 8,
   "metadata": {},
   "outputs": [],
   "source": [
    "# load the data\n",
    "def load_data(filename):\n",
    "    df_raw = pd.read_csv(filename)\n",
    "    df = df_raw.set_index(pd.to_datetime(df_raw.Timestamp))\n",
    "    df = df.drop(columns=['Timestamp'])\n",
    "    df.columns = ['answer']\n",
    "\n",
    "    def convert(s):\n",
    "        \"\"\"Super dumb & robust method to drop anything that might not process\"\"\"\n",
    "        result = None\n",
    "        try:\n",
    "            result = float(s)\n",
    "        except ValueError:\n",
    "            pass\n",
    "        return result\n",
    "\n",
    "    ser = df.answer.apply(convert)\n",
    "    ser = ser.dropna()\n",
    "    return ser"
   ]
  },
  {
   "cell_type": "code",
   "execution_count": 9,
   "metadata": {},
   "outputs": [],
   "source": [
    "assert os.path.exists(CSV_FILENAME_1), \"We're missing our data!\""
   ]
  },
  {
   "cell_type": "markdown",
   "metadata": {},
   "source": [
    "## Experiment 1"
   ]
  },
  {
   "cell_type": "code",
   "execution_count": 10,
   "metadata": {},
   "outputs": [
    {
     "data": {
      "text/html": [
       "<div>\n",
       "<style scoped>\n",
       "    .dataframe tbody tr th:only-of-type {\n",
       "        vertical-align: middle;\n",
       "    }\n",
       "\n",
       "    .dataframe tbody tr th {\n",
       "        vertical-align: top;\n",
       "    }\n",
       "\n",
       "    .dataframe thead th {\n",
       "        text-align: right;\n",
       "    }\n",
       "</style>\n",
       "<table border=\"1\" class=\"dataframe\">\n",
       "  <thead>\n",
       "    <tr style=\"text-align: right;\">\n",
       "      <th></th>\n",
       "      <th>answer</th>\n",
       "    </tr>\n",
       "    <tr>\n",
       "      <th>Timestamp</th>\n",
       "      <th></th>\n",
       "    </tr>\n",
       "  </thead>\n",
       "  <tbody>\n",
       "    <tr>\n",
       "      <th>2018-10-06 10:02:19</th>\n",
       "      <td>45.0</td>\n",
       "    </tr>\n",
       "    <tr>\n",
       "      <th>2018-10-06 10:02:45</th>\n",
       "      <td>18.0</td>\n",
       "    </tr>\n",
       "    <tr>\n",
       "      <th>2018-10-06 10:02:45</th>\n",
       "      <td>30.0</td>\n",
       "    </tr>\n",
       "    <tr>\n",
       "      <th>2018-10-06 10:02:48</th>\n",
       "      <td>10.0</td>\n",
       "    </tr>\n",
       "    <tr>\n",
       "      <th>2018-10-06 10:02:48</th>\n",
       "      <td>20.0</td>\n",
       "    </tr>\n",
       "  </tbody>\n",
       "</table>\n",
       "</div>"
      ],
      "text/plain": [
       "                     answer\n",
       "Timestamp                  \n",
       "2018-10-06 10:02:19    45.0\n",
       "2018-10-06 10:02:45    18.0\n",
       "2018-10-06 10:02:45    30.0\n",
       "2018-10-06 10:02:48    10.0\n",
       "2018-10-06 10:02:48    20.0"
      ]
     },
     "execution_count": 10,
     "metadata": {},
     "output_type": "execute_result"
    }
   ],
   "source": [
    "ser_poor = load_data(CSV_FILENAME_1)\n",
    "ser_poor = ser_poor[OFFSET:]\n",
    "pd.DataFrame(ser_poor).head()"
   ]
  },
  {
   "cell_type": "code",
   "execution_count": 11,
   "metadata": {},
   "outputs": [
    {
     "data": {
      "text/plain": [
       "count     93.000000\n",
       "mean      17.158047\n",
       "std       14.547896\n",
       "min        0.000000\n",
       "25%        9.000000\n",
       "50%       14.000000\n",
       "75%       20.000000\n",
       "max      100.000000\n",
       "Name: answer, dtype: float64"
      ]
     },
     "execution_count": 11,
     "metadata": {},
     "output_type": "execute_result"
    }
   ],
   "source": [
    "ser_poor.describe()"
   ]
  },
  {
   "cell_type": "code",
   "execution_count": 12,
   "metadata": {},
   "outputs": [
    {
     "data": {
      "text/plain": [
       "count     93.000000\n",
       "mean      17.158047\n",
       "std       14.547896\n",
       "min        0.000000\n",
       "25%        9.000000\n",
       "50%       14.000000\n",
       "75%       20.000000\n",
       "max      100.000000\n",
       "Name: answer, dtype: float64"
      ]
     },
     "execution_count": 12,
     "metadata": {},
     "output_type": "execute_result"
    }
   ],
   "source": [
    "def drop_nan_inf(ser):\n",
    "    return ser.replace([np.inf, -np.inf], np.nan).dropna()\n",
    "\n",
    "ser_poor = drop_nan_inf(ser_poor)\n",
    "ser_poor.describe()"
   ]
  },
  {
   "cell_type": "markdown",
   "metadata": {},
   "source": [
    "Note the wider distribution and less-well-defined mean estimate."
   ]
  },
  {
   "cell_type": "code",
   "execution_count": 13,
   "metadata": {},
   "outputs": [
    {
     "data": {
      "image/png": "[encoded data removed]",
      "text/plain": [
       "<Figure size 432x288 with 1 Axes>"
      ]
     },
     "metadata": {},
     "output_type": "display_data"
    }
   ],
   "source": [
    "ax = ser_poor.hist(bins=20);\n",
    "ax.set_title(\"Histogram of raw responses\")\n",
    "ax.set_ylabel(\"Frequency\")\n",
    "ax.set_xlabel(\"Estimated weight (kg)\");"
   ]
  },
  {
   "cell_type": "code",
   "execution_count": 14,
   "metadata": {},
   "outputs": [],
   "source": [
    "max_weight = 80\n",
    "bins = range(0, max_weight, 2)\n",
    "\n",
    "def mask_and_descriptive_statistics(ser):\n",
    "    mask = (ser >= 1) & (ser <= max_weight)\n",
    "\n",
    "    ser_clipped = ser[mask]\n",
    "    mean = ser_clipped.mean()\n",
    "    median = ser_clipped.median()\n",
    "    lower_quantile = ser_clipped.quantile(q=0.05)\n",
    "    upper_quantile = ser_clipped.quantile(q=0.95)\n",
    "    return ser_clipped, mean, median, lower_quantile, upper_quantile, bins"
   ]
  },
  {
   "cell_type": "code",
   "execution_count": 15,
   "metadata": {},
   "outputs": [
    {
     "data": {
      "image/png": "[encoded data removed]",
      "text/plain": [
       "<Figure size 432x288 with 1 Axes>"
      ]
     },
     "metadata": {},
     "output_type": "display_data"
    }
   ],
   "source": [
    "def draw_clipped_distribution(ser):\n",
    "    ser_clipped, mean, median, lower_quantile, upper_quantile, bins = mask_and_descriptive_statistics(ser)\n",
    "    ax = ser_clipped.hist(bins=bins)\n",
    "    title = f\"Histogram of {ser_clipped.shape[0]} clipped responses\\nwith median {median:0.2f} (mean {mean:0.2f})\"\n",
    "    title += f\"\\n5% quantile {lower_quantile}, 95% quantile {upper_quantile}\"\n",
    "    ax.set_title(title)\n",
    "    ax.set_ylabel(\"Frequency\")\n",
    "    ax.set_xlabel(\"Estimated weight (kg)\");\n",
    "    ymax = ax.get_ylim()[1]\n",
    "    ax.vlines(median, ymin=0, ymax=ymax, linewidth=5)\n",
    "    ax.vlines(lower_quantile, ymin=0, ymax=ymax, linewidth=1)\n",
    "    ax.vlines(upper_quantile, ymin=0, ymax=ymax, linewidth=1);\n",
    "    return ser_clipped\n",
    "    \n",
    "ser_poor_clipped = draw_clipped_distribution(ser_poor)"
   ]
  },
  {
   "cell_type": "markdown",
   "metadata": {},
   "source": [
    "## Experiment 2 (with better information)"
   ]
  },
  {
   "cell_type": "code",
   "execution_count": 16,
   "metadata": {},
   "outputs": [
    {
     "data": {
      "text/html": [
       "<div>\n",
       "<style scoped>\n",
       "    .dataframe tbody tr th:only-of-type {\n",
       "        vertical-align: middle;\n",
       "    }\n",
       "\n",
       "    .dataframe tbody tr th {\n",
       "        vertical-align: top;\n",
       "    }\n",
       "\n",
       "    .dataframe thead th {\n",
       "        text-align: right;\n",
       "    }\n",
       "</style>\n",
       "<table border=\"1\" class=\"dataframe\">\n",
       "  <thead>\n",
       "    <tr style=\"text-align: right;\">\n",
       "      <th></th>\n",
       "      <th>answer</th>\n",
       "    </tr>\n",
       "  </thead>\n",
       "  <tbody>\n",
       "    <tr>\n",
       "      <th>count</th>\n",
       "      <td>88.000000</td>\n",
       "    </tr>\n",
       "    <tr>\n",
       "      <th>mean</th>\n",
       "      <td>14.392575</td>\n",
       "    </tr>\n",
       "    <tr>\n",
       "      <th>std</th>\n",
       "      <td>13.678083</td>\n",
       "    </tr>\n",
       "    <tr>\n",
       "      <th>min</th>\n",
       "      <td>3.000000</td>\n",
       "    </tr>\n",
       "    <tr>\n",
       "      <th>25%</th>\n",
       "      <td>8.000000</td>\n",
       "    </tr>\n",
       "    <tr>\n",
       "      <th>50%</th>\n",
       "      <td>12.000000</td>\n",
       "    </tr>\n",
       "    <tr>\n",
       "      <th>75%</th>\n",
       "      <td>16.000000</td>\n",
       "    </tr>\n",
       "    <tr>\n",
       "      <th>max</th>\n",
       "      <td>120.000000</td>\n",
       "    </tr>\n",
       "  </tbody>\n",
       "</table>\n",
       "</div>"
      ],
      "text/plain": [
       "           answer\n",
       "count   88.000000\n",
       "mean    14.392575\n",
       "std     13.678083\n",
       "min      3.000000\n",
       "25%      8.000000\n",
       "50%     12.000000\n",
       "75%     16.000000\n",
       "max    120.000000"
      ]
     },
     "execution_count": 16,
     "metadata": {},
     "output_type": "execute_result"
    }
   ],
   "source": [
    "ser_good = load_data(CSV_FILENAME_2)\n",
    "ser_good = ser_good[OFFSET:]\n",
    "ser_good = drop_nan_inf(ser_good)\n",
    "pd.DataFrame(ser_good).describe()"
   ]
  },
  {
   "cell_type": "code",
   "execution_count": 17,
   "metadata": {},
   "outputs": [
    {
     "data": {
      "image/png": "[encoded data removed]",
      "text/plain": [
       "<Figure size 432x288 with 1 Axes>"
      ]
     },
     "metadata": {},
     "output_type": "display_data"
    }
   ],
   "source": [
    "ax = ser_good.hist(bins=20);\n",
    "ax.set_title(\"Histogram of raw responses\")\n",
    "ax.set_ylabel(\"Frequency\")\n",
    "ax.set_xlabel(\"Estimated weight (kg)\");"
   ]
  },
  {
   "cell_type": "code",
   "execution_count": 18,
   "metadata": {},
   "outputs": [
    {
     "data": {
      "image/png": "[encoded data removed]",
      "text/plain": [
       "<Figure size 432x288 with 1 Axes>"
      ]
     },
     "metadata": {},
     "output_type": "display_data"
    }
   ],
   "source": [
    "ser_good_clipped = draw_clipped_distribution(ser_good)"
   ]
  },
  {
   "cell_type": "markdown",
   "metadata": {},
   "source": [
    "# Combine the two results raw (non-trimmed) results"
   ]
  },
  {
   "cell_type": "code",
   "execution_count": 19,
   "metadata": {},
   "outputs": [
    {
     "data": {
      "text/html": [
       "<div>\n",
       "<style scoped>\n",
       "    .dataframe tbody tr th:only-of-type {\n",
       "        vertical-align: middle;\n",
       "    }\n",
       "\n",
       "    .dataframe tbody tr th {\n",
       "        vertical-align: top;\n",
       "    }\n",
       "\n",
       "    .dataframe thead th {\n",
       "        text-align: right;\n",
       "    }\n",
       "</style>\n",
       "<table border=\"1\" class=\"dataframe\">\n",
       "  <thead>\n",
       "    <tr style=\"text-align: right;\">\n",
       "      <th></th>\n",
       "      <th>estimates_poor</th>\n",
       "      <th>estimates_good</th>\n",
       "    </tr>\n",
       "  </thead>\n",
       "  <tbody>\n",
       "    <tr>\n",
       "      <th>0</th>\n",
       "      <td>45.0</td>\n",
       "      <td>12.0</td>\n",
       "    </tr>\n",
       "    <tr>\n",
       "      <th>1</th>\n",
       "      <td>18.0</td>\n",
       "      <td>7.0</td>\n",
       "    </tr>\n",
       "    <tr>\n",
       "      <th>2</th>\n",
       "      <td>30.0</td>\n",
       "      <td>12.0</td>\n",
       "    </tr>\n",
       "    <tr>\n",
       "      <th>3</th>\n",
       "      <td>10.0</td>\n",
       "      <td>5.0</td>\n",
       "    </tr>\n",
       "    <tr>\n",
       "      <th>4</th>\n",
       "      <td>20.0</td>\n",
       "      <td>15.0</td>\n",
       "    </tr>\n",
       "  </tbody>\n",
       "</table>\n",
       "</div>"
      ],
      "text/plain": [
       "   estimates_poor  estimates_good\n",
       "0            45.0            12.0\n",
       "1            18.0             7.0\n",
       "2            30.0            12.0\n",
       "3            10.0             5.0\n",
       "4            20.0            15.0"
      ]
     },
     "execution_count": 19,
     "metadata": {},
     "output_type": "execute_result"
    }
   ],
   "source": [
    "df2 = pd.DataFrame()\n",
    "df2['estimates_poor'] = ser_poor_clipped.reset_index(drop=True)\n",
    "df2['estimates_good'] = ser_good_clipped.reset_index(drop=True)\n",
    "df2.head()"
   ]
  },
  {
   "cell_type": "code",
   "execution_count": 20,
   "metadata": {},
   "outputs": [
    {
     "data": {
      "text/html": [
       "<div>\n",
       "<style scoped>\n",
       "    .dataframe tbody tr th:only-of-type {\n",
       "        vertical-align: middle;\n",
       "    }\n",
       "\n",
       "    .dataframe tbody tr th {\n",
       "        vertical-align: top;\n",
       "    }\n",
       "\n",
       "    .dataframe thead th {\n",
       "        text-align: right;\n",
       "    }\n",
       "</style>\n",
       "<table border=\"1\" class=\"dataframe\">\n",
       "  <thead>\n",
       "    <tr style=\"text-align: right;\">\n",
       "      <th></th>\n",
       "      <th>estimates_poor</th>\n",
       "      <th>estimates_good</th>\n",
       "    </tr>\n",
       "  </thead>\n",
       "  <tbody>\n",
       "    <tr>\n",
       "      <th>84</th>\n",
       "      <td>13.0</td>\n",
       "      <td>15.00000</td>\n",
       "    </tr>\n",
       "    <tr>\n",
       "      <th>85</th>\n",
       "      <td>15.0</td>\n",
       "      <td>30.00000</td>\n",
       "    </tr>\n",
       "    <tr>\n",
       "      <th>86</th>\n",
       "      <td>8.0</td>\n",
       "      <td>18.71337</td>\n",
       "    </tr>\n",
       "    <tr>\n",
       "      <th>87</th>\n",
       "      <td>8.0</td>\n",
       "      <td>NaN</td>\n",
       "    </tr>\n",
       "    <tr>\n",
       "      <th>88</th>\n",
       "      <td>15.0</td>\n",
       "      <td>NaN</td>\n",
       "    </tr>\n",
       "  </tbody>\n",
       "</table>\n",
       "</div>"
      ],
      "text/plain": [
       "    estimates_poor  estimates_good\n",
       "84            13.0        15.00000\n",
       "85            15.0        30.00000\n",
       "86             8.0        18.71337\n",
       "87             8.0             NaN\n",
       "88            15.0             NaN"
      ]
     },
     "execution_count": 20,
     "metadata": {},
     "output_type": "execute_result"
    }
   ],
   "source": [
    "df2.tail()"
   ]
  },
  {
   "cell_type": "code",
   "execution_count": 21,
   "metadata": {},
   "outputs": [
    {
     "data": {
      "image/png": "[encoded data removed]",
      "text/plain": [
       "<Figure size 432x288 with 1 Axes>"
      ]
     },
     "metadata": {},
     "output_type": "display_data"
    }
   ],
   "source": [
    "ax = df2.plot(kind=\"hist\", alpha=0.5, bins=bins);\n",
    "ax.set_xlabel(\"Estimated weight (kg)\")\n",
    "ax.set_title(\"Ada weight estimates with and without prior information\");"
   ]
  },
  {
   "cell_type": "markdown",
   "metadata": {},
   "source": [
    "**True weight** == 17kg (she's heavier than she looks!)"
   ]
  },
  {
   "cell_type": "markdown",
   "metadata": {},
   "source": [
    "**Caveat** the above assumes we had an fairly _equal_ count of guesses in both files, otherwise we'll have a bias that might change how we perceive the result"
   ]
  },
  {
   "cell_type": "markdown",
   "metadata": {},
   "source": [
    "# Prettier Plot.ly plots"
   ]
  },
  {
   "cell_type": "code",
   "execution_count": 22,
   "metadata": {},
   "outputs": [
    {
     "data": {
      "text/html": [
       "<iframe id=\"igraph\" scrolling=\"no\" style=\"border:none;\" seamless=\"seamless\" src=\"https://plot.ly/~ianozsvald/54.embed\" height=\"500px\" width=\"500px\"></iframe>"
      ],
      "text/plain": [
       "<plotly.tools.PlotlyDisplay object>"
      ]
     },
     "execution_count": 22,
     "metadata": {},
     "output_type": "execute_result"
    }
   ],
   "source": [
    "import plotly\n",
    "import plotly.plotly as py\n",
    "import plotly.graph_objs as go\n",
    "\n",
    "data = [go.Histogram(x=ser_poor, \n",
    "                     opacity=0.6,\n",
    "                     name=\"estimates_poor\"),\n",
    "        go.Histogram(x=ser_good, \n",
    "                     opacity=0.6,\n",
    "                     name=\"estimates_good\")]\n",
    "\n",
    "layout = go.Layout(\n",
    "    autosize=False,\n",
    "    width=500,\n",
    "    height=500,\n",
    "    title=\"Estimating Ada's weight using Plot.ly\",\n",
    "    xaxis=dict(range=[0, 60], title=\"Estimated weight kilograms\"),\n",
    "    yaxis=dict(title=\"Frequency of binned guess\"),\n",
    "    barmode='overlay'\n",
    ")\n",
    "\n",
    "fig = go.Figure(data=data, layout=layout)\n",
    "py.iplot(fig, filename=\"keynotedemo\")"
   ]
  },
  {
   "cell_type": "code",
   "execution_count": null,
   "metadata": {},
   "outputs": [],
   "source": []
  }
 ],
 "metadata": {
  "kernelspec": {
   "display_name": "Python 3",
   "language": "python",
   "name": "python3"
  },
  "language_info": {
   "codemirror_mode": {
    "name": "ipython",
    "version": 3
   },
   "file_extension": ".py",
   "mimetype": "text/x-python",
   "name": "python",
   "nbconvert_exporter": "python",
   "pygments_lexer": "ipython3",
   "version": "3.6.5"
  }
 },
 "nbformat": 4,
 "nbformat_minor": 2
}
